{
 "cells": [
  {
   "cell_type": "code",
   "execution_count": 4,
   "id": "35c962df",
   "metadata": {},
   "outputs": [],
   "source": [
    "import pandas as pd\n",
    "\n",
    "import matplotlib.pyplot as plt\n",
    "import seaborn as sns\n",
    "\n",
    "import numpy as np\n",
    "\n"
   ]
  },
  {
   "cell_type": "markdown",
   "id": "f5e4e756",
   "metadata": {},
   "source": [
    "# A docstring can change the output of the function use but the comment cannot cange the output of the function use \n",
    "# Docstring also helps to understand the function better \n",
    "\n",
    "# the comments used in the python are completely ignored by the python interpreter but the docstring is not ignored by the python interpreter \n",
    "# the docstring is used to describe the function and its parameters and its return value and help in the proper documentation of the function "
   ]
  },
  {
   "cell_type": "code",
   "execution_count": 1,
   "id": "d44a7f67",
   "metadata": {},
   "outputs": [
    {
     "name": "stdout",
     "output_type": "stream",
     "text": [
      "10\n",
      " Takes a number and returns its square. \n"
     ]
    }
   ],
   "source": [
    "def square(n):\n",
    "    ''' Takes a number and returns its square. '''\n",
    "    print(n*2)\n",
    "square(5)\n",
    "print(square.__doc__)"
   ]
  },
  {
   "cell_type": "code",
   "execution_count": 2,
   "id": "276e41bd",
   "metadata": {},
   "outputs": [
    {
     "name": "stdout",
     "output_type": "stream",
     "text": [
      "5\n",
      "10\n",
      "None\n"
     ]
    }
   ],
   "source": [
    "def square(n):\n",
    "    print(n)\n",
    "    ''' Takes a number and returns its square. '''\n",
    "    print(n*2)\n",
    "square(5)\n",
    "print(square.__doc__)"
   ]
  },
  {
   "cell_type": "markdown",
   "id": "7a5f16e5",
   "metadata": {},
   "source": [
    "## form the above example we can see that the docstring is not printed when we call the function beacuse it is not the first statement in the function i.e \n",
    "## for the docstring to be printed it should be the first statement in the function after the def statement like in the first example not in the second example"
   ]
  },
  {
   "cell_type": "markdown",
   "id": "16ffaf95",
   "metadata": {},
   "source": [
    "# PEP 8"
   ]
  },
  {
   "cell_type": "code",
   "execution_count": 3,
   "id": "680b073c",
   "metadata": {},
   "outputs": [],
   "source": [
    "# full form of the PEP 8 is python enhancement proposal \n",
    "# It is the style guide for python code \n",
    "# # PEP 8 is a set of rules that you should follow when writing python code\n"
   ]
  },
  {
   "cell_type": "code",
   "execution_count": 4,
   "id": "c23f6e58",
   "metadata": {},
   "outputs": [
    {
     "name": "stdout",
     "output_type": "stream",
     "text": [
      "The Zen of Python, by Tim Peters\n",
      "\n",
      "Beautiful is better than ugly.\n",
      "Explicit is better than implicit.\n",
      "Simple is better than complex.\n",
      "Complex is better than complicated.\n",
      "Flat is better than nested.\n",
      "Sparse is better than dense.\n",
      "Readability counts.\n",
      "Special cases aren't special enough to break the rules.\n",
      "Although practicality beats purity.\n",
      "Errors should never pass silently.\n",
      "Unless explicitly silenced.\n",
      "In the face of ambiguity, refuse the temptation to guess.\n",
      "There should be one-- and preferably only one --obvious way to do it.\n",
      "Although that way may not be obvious at first unless you're Dutch.\n",
      "Now is better than never.\n",
      "Although never is often better than *right* now.\n",
      "If the implementation is hard to explain, it's a bad idea.\n",
      "If the implementation is easy to explain, it may be a good idea.\n",
      "Namespaces are one honking great idea -- let's do more of those!\n"
     ]
    }
   ],
   "source": [
    "import this \n",
    " "
   ]
  },
  {
   "cell_type": "code",
   "execution_count": 5,
   "id": "9ceab22e",
   "metadata": {},
   "outputs": [],
   "source": [
    "# the above code is the zen of python\n",
    "# it is a collection of aphorisms that capture the philosophy of python\n",
    "# it is a collection of guiding principles for writing computer programs in the python language\n",
    "# "
   ]
  },
  {
   "cell_type": "code",
   "execution_count": null,
   "id": "7d82b689",
   "metadata": {},
   "outputs": [],
   "source": []
  }
 ],
 "metadata": {
  "kernelspec": {
   "display_name": "venv",
   "language": "python",
   "name": "python3"
  },
  "language_info": {
   "codemirror_mode": {
    "name": "ipython",
    "version": 3
   },
   "file_extension": ".py",
   "mimetype": "text/x-python",
   "name": "python",
   "nbconvert_exporter": "python",
   "pygments_lexer": "ipython3",
   "version": "3.12.6"
  }
 },
 "nbformat": 4,
 "nbformat_minor": 5
}
