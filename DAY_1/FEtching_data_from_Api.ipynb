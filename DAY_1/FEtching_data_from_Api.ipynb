{
 "cells": [
  {
   "cell_type": "markdown",
   "metadata": {},
   "source": []
  },
  {
   "cell_type": "markdown",
   "metadata": {},
   "source": [
    "## API- Application progaramming interface "
   ]
  },
  {
   "cell_type": "markdown",
   "metadata": {},
   "source": [
    "## API are the data pipelines that allow us to access data from the web\n",
    "## API stands for Application Programming Interface\n",
    "## APIS hepls int he communucation between two different software apps "
   ]
  },
  {
   "cell_type": "code",
   "execution_count": 25,
   "metadata": {},
   "outputs": [
    {
     "name": "stdout",
     "output_type": "stream",
     "text": [
      "adamselipsky\n"
     ]
    }
   ],
   "source": [
    "import requests\n",
    "import pandas as pd\n",
    "url = \"https://linkedin-data-api.p.rapidapi.com/\"\n",
    "\n",
    "querystring = {\"username\":\"adamselipsky\"}\n",
    "\n",
    "headers = {\n",
    "\t\"x-rapidapi-key\": \"879f2a0791msh9d65101a5399400p1618d4jsn5037d2c30d63\",\n",
    "\t\"x-rapidapi-host\": \"linkedin-data-api.p.rapidapi.com\"\n",
    "}\n",
    "\n",
    "response = requests.get(url, headers=headers, params=querystring)\n",
    "\n",
    "print(response.json()['username'])\n"
   ]
  },
  {
   "cell_type": "code",
   "execution_count": 17,
   "metadata": {},
   "outputs": [
    {
     "name": "stdout",
     "output_type": "stream",
     "text": [
      "{'success': True, 'message': '', 'data': {'total': 167073, 'items': [{'fullName': 'Max Klymenko', 'headline': 'I make videos about careers, brands and social causes. 6 Million followers and 3 Billion views.', 'summary': 'Current: Creative Director at klym&co - After a career in corporate consultancy and advertising, Max started his own social media channels...', 'profilePicture': '', 'location': 'London', 'profileURL': 'https://www.linkedin.com/in/maxoklymenko', 'username': 'maxoklymenko'}, {'fullName': 'Malcolm ( aka Max) King', 'headline': 'Former fund manager , non-executive director, freelance financial writer, assisting good causes', 'summary': '', 'profilePicture': '', 'location': 'Greater London', 'profileURL': 'https://www.linkedin.com/in/malcolm-aka-max-king-14a4b98', 'username': 'malcolm-aka-max-king-14a4b98'}, {'fullName': 'Max Siegel', 'headline': 'LinkedIn Top 10 LGBTQIA+ Voices. Content creator & photographer specialising in travel, menswear and lifestyle.', 'summary': 'Past: Director at Trans& - Max began sharing his own story of gender...', 'profilePicture': 'https://media.licdn.com/dms/image/v2/D4E03AQHNT0zK88ZfgQ/profile-displayphoto-shrink_100_100/profile-displayphoto-shrink_100_100/0/1720781522942?e=1742428800&v=beta&t=wT_7gQM9Nl3Jg0w0lccXeUD5rcvddv8I2G_9UTaiRpg', 'location': 'London', 'profileURL': 'https://www.linkedin.com/in/maximiliansiegel', 'username': 'maximiliansiegel'}, {'fullName': 'Max Foster', 'headline': 'International Anchor & Correspondent @CNN', 'summary': 'Current: News Anchor, CNN Newsroom at CNN - CNN Newsroom with Max Foster and Bianca Nobilo on CNN US. CNN Newsroom with Max Foster on CNN...', 'profilePicture': 'https://media.licdn.com/dms/image/v2/C4E03AQE93Qc5PRmQHA/profile-displayphoto-shrink_100_100/profile-displayphoto-shrink_100_100/0/1641993773667?e=1742428800&v=beta&t=LvwQ8505ZhRqNzyh_A07FfxhikSe7rTL18H8vXoiS2k', 'location': 'United Kingdom', 'profileURL': 'https://www.linkedin.com/in/maxfostercnn', 'username': 'maxfostercnn'}, {'fullName': 'Max Dickins', 'headline': 'Director, Hoopla! │ LinkedIn Top Voice │ Author: Billy No Mates and Improvise! │ The Inbetween Man podcast', 'summary': 'Summary: My name is Max. I once sold a date with me on Groupon. A thousand people bought it. But that cannot...', 'profilePicture': 'https://media.licdn.com/dms/image/v2/D4E03AQGNp7BI6TmKMg/profile-displayphoto-shrink_100_100/profile-displayphoto-shrink_100_100/0/1720457518905?e=1742428800&v=beta&t=NiYWpJbQyRiMXK-YqFx9wW8PtANHedj8EZNGOzjbdYU', 'location': 'London', 'profileURL': 'https://www.linkedin.com/in/max-dickins-improv', 'username': 'max-dickins-improv'}, {'fullName': 'Max Turnbull', 'headline': 'Client Account Manager | Sales', 'summary': '', 'profilePicture': 'https://media.licdn.com/dms/image/v2/D4E03AQEyK9nPNbldRg/profile-displayphoto-shrink_100_100/B4EZRv485NGcAU-/0/1737043988537?e=1742428800&v=beta&t=mLjBWA3Q90_OS0hXaUt0QLxzFcDbqVkaEUqp2EBRMIo', 'location': 'Glasgow', 'profileURL': 'https://www.linkedin.com/in/max-turnbull-156208234', 'username': 'max-turnbull-156208234'}, {'fullName': 'Max Browning', 'headline': 'Schwarzman Scholar | MA Chinese & Russian | MSc East Asian Relations | One Scotland | Edinburgh University', 'summary': '', 'profilePicture': 'https://media.licdn.com/dms/image/v2/D5603AQGdts0SshHOlA/profile-displayphoto-shrink_100_100/profile-displayphoto-shrink_100_100/0/1719589991114?e=1742428800&v=beta&t=AaQX2wcB6BHuFtSy9bu4soa9UPoNwpDDoc5jye3OniQ', 'location': 'United Kingdom', 'profileURL': 'https://www.linkedin.com/in/mrbrowning', 'username': 'mrbrowning'}, {'fullName': 'Max Branzburg', 'headline': 'Head of Consumer Products at Coinbase', 'summary': '', 'profilePicture': 'https://media.licdn.com/dms/image/v2/D5603AQEdokjesDhEmg/profile-displayphoto-shrink_100_100/profile-displayphoto-shrink_100_100/0/1679932663318?e=1742428800&v=beta&t=mVyE5QDs-M4d1_qx8YiYIMzrongCutsvA1ARuz4NrCw', 'location': 'United States', 'profileURL': 'https://www.linkedin.com/in/mbranzburg', 'username': 'mbranzburg'}, {'fullName': 'Max Levchin', 'headline': 'Co-Founder & CEO at Affirm, Inc', 'summary': '', 'profilePicture': 'https://media.licdn.com/dms/image/v2/C4E03AQFlmLGSxfTBlg/profile-displayphoto-shrink_100_100/profile-displayphoto-shrink_100_100/0/1516155449314?e=1742428800&v=beta&t=upGp2LASTpAksydf81JZp-hdxeOvXczUuvq8turGujY', 'location': 'San Francisco, CA', 'profileURL': 'https://www.linkedin.com/in/maxlevchin', 'username': 'maxlevchin'}, {'fullName': 'Max Jones', 'headline': 'Chief Energy Spreader at PerfectTed', 'summary': '', 'profilePicture': 'https://media.licdn.com/dms/image/v2/D4E03AQGYNIzLMtLtqg/profile-displayphoto-shrink_100_100/profile-displayphoto-shrink_100_100/0/1718883101234?e=1742428800&v=beta&t=d4ClhLXhLeMdOMaV-WjO0KxyVrEz2-8wATXFPZ9csdQ', 'location': 'London', 'profileURL': 'https://www.linkedin.com/in/max-jones-6a0980242', 'username': 'max-jones-6a0980242'}]}}\n"
     ]
    }
   ],
   "source": [
    "import requests\n",
    "\n",
    "url = \"https://linkedin-data-api.p.rapidapi.com/search-people\"\n",
    "\n",
    "querystring = {\"keywords\":\"max\",\"start\":\"0\",\"geo\":\"103644278,101165590\"}\n",
    "\n",
    "headers = {\n",
    "\t\"x-rapidapi-key\": \"879f2a0791msh9d65101a5399400p1618d4jsn5037d2c30d63\",\n",
    "\t\"x-rapidapi-host\": \"linkedin-data-api.p.rapidapi.com\"\n",
    "}\n",
    "\n",
    "response = requests.get(url, headers=headers, params=querystring)\n",
    "\n",
    "print(response.json())"
   ]
  },
  {
   "cell_type": "code",
   "execution_count": 18,
   "metadata": {},
   "outputs": [],
   "source": [
    "import pandas as pd\n",
    "df = pd.DataFrame(response.json()['data'])\n"
   ]
  },
  {
   "cell_type": "code",
   "execution_count": 19,
   "metadata": {},
   "outputs": [
    {
     "data": {
      "text/html": [
       "<div>\n",
       "<style scoped>\n",
       "    .dataframe tbody tr th:only-of-type {\n",
       "        vertical-align: middle;\n",
       "    }\n",
       "\n",
       "    .dataframe tbody tr th {\n",
       "        vertical-align: top;\n",
       "    }\n",
       "\n",
       "    .dataframe thead th {\n",
       "        text-align: right;\n",
       "    }\n",
       "</style>\n",
       "<table border=\"1\" class=\"dataframe\">\n",
       "  <thead>\n",
       "    <tr style=\"text-align: right;\">\n",
       "      <th></th>\n",
       "      <th>total</th>\n",
       "      <th>items</th>\n",
       "    </tr>\n",
       "  </thead>\n",
       "  <tbody>\n",
       "    <tr>\n",
       "      <th>0</th>\n",
       "      <td>167073</td>\n",
       "      <td>{'fullName': 'Max Klymenko', 'headline': 'I ma...</td>\n",
       "    </tr>\n",
       "    <tr>\n",
       "      <th>1</th>\n",
       "      <td>167073</td>\n",
       "      <td>{'fullName': 'Malcolm ( aka Max) King', 'headl...</td>\n",
       "    </tr>\n",
       "    <tr>\n",
       "      <th>2</th>\n",
       "      <td>167073</td>\n",
       "      <td>{'fullName': 'Max Siegel', 'headline': 'Linked...</td>\n",
       "    </tr>\n",
       "    <tr>\n",
       "      <th>3</th>\n",
       "      <td>167073</td>\n",
       "      <td>{'fullName': 'Max Foster', 'headline': 'Intern...</td>\n",
       "    </tr>\n",
       "    <tr>\n",
       "      <th>4</th>\n",
       "      <td>167073</td>\n",
       "      <td>{'fullName': 'Max Dickins', 'headline': 'Direc...</td>\n",
       "    </tr>\n",
       "  </tbody>\n",
       "</table>\n",
       "</div>"
      ],
      "text/plain": [
       "    total                                              items\n",
       "0  167073  {'fullName': 'Max Klymenko', 'headline': 'I ma...\n",
       "1  167073  {'fullName': 'Malcolm ( aka Max) King', 'headl...\n",
       "2  167073  {'fullName': 'Max Siegel', 'headline': 'Linked...\n",
       "3  167073  {'fullName': 'Max Foster', 'headline': 'Intern...\n",
       "4  167073  {'fullName': 'Max Dickins', 'headline': 'Direc..."
      ]
     },
     "execution_count": 19,
     "metadata": {},
     "output_type": "execute_result"
    }
   ],
   "source": [
    "df.head()\n"
   ]
  },
  {
   "cell_type": "code",
   "execution_count": 26,
   "metadata": {},
   "outputs": [
    {
     "data": {
      "text/plain": [
       "(10, 2)"
      ]
     },
     "execution_count": 26,
     "metadata": {},
     "output_type": "execute_result"
    }
   ],
   "source": [
    "df.shape"
   ]
  },
  {
   "cell_type": "code",
   "execution_count": 29,
   "metadata": {},
   "outputs": [
    {
     "name": "stdout",
     "output_type": "stream",
     "text": [
      "{'total': 225, 'items': [{'fullName': 'Max Fischer', 'headline': 'Group Finance Manager - M365 Copilot and Growth Product Revenue Planning', 'summary': \"Summary: Hi, I'm Max! I love tackling tough business problems in the technology space, from pricing...\", 'profilePicture': 'https://media.licdn.com/dms/image/v2/D4D03AQEiHKeX-nBNsQ/profile-displayphoto-shrink_100_100/profile-displayphoto-shrink_100_100/0/1667231726905?e=1742428800&v=beta&t=aEj4IKuCLnSq6OHtkmqRew7yMxYfO5MHkcZZogD8uo0', 'location': 'Greater Seattle Area', 'profileURL': 'https://www.linkedin.com/in/maxjfischer', 'username': 'maxjfischer'}, {'fullName': 'Max Charlamb', 'headline': 'CS @ Cornell ‘22 ‘23 | Microsoft SWE | Cornell Sailing Alum', 'summary': '', 'profilePicture': 'https://media.licdn.com/dms/image/v2/D4E03AQEaGCGOkPjxXQ/profile-displayphoto-shrink_100_100/profile-displayphoto-shrink_100_100/0/1683072827877?e=1742428800&v=beta&t=2u3AlCeFf_-McuIbyI73o2_7qBU48kqzmqmOREhaHP0', 'location': 'Ithaca, NY', 'profileURL': 'https://www.linkedin.com/in/maxcharlamb', 'username': 'maxcharlamb'}, {'fullName': 'Max P.', 'headline': 'Sr. Security Researcher (DART)', 'summary': 'Summary: Max is a passionate Information Security professional who currently holds a Graduate degree in...', 'profilePicture': '', 'location': 'United States', 'profileURL': 'https://www.linkedin.com/in/max-p-3621b5173', 'username': 'max-p-3621b5173'}, {'fullName': 'Max Bouchez', 'headline': 'Senior Software Engineer Lead', 'summary': '', 'profilePicture': 'https://media.licdn.com/dms/image/v2/C5603AQEgFWtl3csv9w/profile-displayphoto-shrink_100_100/profile-displayphoto-shrink_100_100/0/1651393083058?e=1742428800&v=beta&t=tMJfz0U7i_I1_SO_9w26qKRu1at8MWmspgQZC_zSQrU', 'location': 'Bothell, WA', 'profileURL': 'https://www.linkedin.com/in/max-bouchez-46915347', 'username': 'max-bouchez-46915347'}, {'fullName': 'Max Liu', 'headline': 'Senior Software Engineer @ Microsoft | JavaScript, React, TypeScript', 'summary': '', 'profilePicture': 'https://media.licdn.com/dms/image/v2/D5603AQEmObjQVd1h5A/profile-displayphoto-shrink_100_100/profile-displayphoto-shrink_100_100/0/1705601920446?e=1742428800&v=beta&t=Ahn-zE_PeQBaTYbTcqSYWapPntzckcJdneMwScELyDE', 'location': 'Redmond, WA', 'profileURL': 'https://www.linkedin.com/in/max-liu-2b149a42', 'username': 'max-liu-2b149a42'}, {'fullName': 'Max Manesh', 'headline': 'Software Sales | Microsoft | Low Code, Automation, GenAI | Investor', 'summary': '', 'profilePicture': '', 'location': 'Laguna Beach, CA', 'profileURL': 'https://www.linkedin.com/in/maxwellrmanesh', 'username': 'maxwellrmanesh'}, {'fullName': 'Max Kryatov', 'headline': 'SDE', 'summary': '', 'profilePicture': '', 'location': 'Redmond, WA', 'profileURL': 'https://www.linkedin.com/in/max-kryatov-a681791', 'username': 'max-kryatov-a681791'}, {'fullName': 'Max E.', 'headline': 'Enterprise Technology Strategist | Sustainability Advocate with Cross Industry Expertise', 'summary': '', 'profilePicture': '', 'location': 'Los Angeles, CA', 'profileURL': 'https://www.linkedin.com/in/max-ebong', 'username': 'max-ebong'}, {'fullName': 'Max Peterschmidt', 'headline': 'UX Research Leader at Microsoft', 'summary': 'Summary: ...of LUMA toolkit.  Portfolio:  www.max--peterschmidt...', 'profilePicture': 'https://media.licdn.com/dms/image/v2/C4E03AQH6UjfwJ6vh_g/profile-displayphoto-shrink_100_100/profile-displayphoto-shrink_100_100/0/1582676677306?e=1742428800&v=beta&t=Nstz6UNt4JiMHQoOlUpHOy5w4FYjX1T1e70jWMInSVI', 'location': 'Seattle, WA', 'profileURL': 'https://www.linkedin.com/in/max-peterschmidt-65559323', 'username': 'max-peterschmidt-65559323'}, {'fullName': 'Max Marquardt', 'headline': 'Finance Manager, Data Center Build at Microsoft', 'summary': '', 'profilePicture': 'https://media.licdn.com/dms/image/v2/D4E03AQF6BaJg_ayMjw/profile-displayphoto-shrink_100_100/profile-displayphoto-shrink_100_100/0/1685500292441?e=1742428800&v=beta&t=nPcgIWSkdXUzydd1N-0B3VGeIR_pyOammnj_mrDnzVg', 'location': 'Seattle, WA', 'profileURL': 'https://www.linkedin.com/in/maxmarq', 'username': 'maxmarq'}]}\n",
      "   total                                              items\n",
      "0    225  {'fullName': 'Max Fischer', 'headline': 'Group...\n",
      "1    225  {'fullName': 'Max Charlamb', 'headline': 'CS @...\n",
      "2    225  {'fullName': 'Max P.', 'headline': 'Sr. Securi...\n",
      "3    225  {'fullName': 'Max Bouchez', 'headline': 'Senio...\n",
      "4    225  {'fullName': 'Max Liu', 'headline': 'Senior So...\n",
      "5    225  {'fullName': 'Max Manesh', 'headline': 'Softwa...\n",
      "6    225  {'fullName': 'Max Kryatov', 'headline': 'SDE',...\n",
      "7    225  {'fullName': 'Max E.', 'headline': 'Enterprise...\n",
      "8    225  {'fullName': 'Max Peterschmidt', 'headline': '...\n",
      "9    225  {'fullName': 'Max Marquardt', 'headline': 'Fin...\n"
     ]
    }
   ],
   "source": [
    "import requests\n",
    "\n",
    "url = \"https://linkedin-data-api.p.rapidapi.com/search-people-by-url\"\n",
    "\n",
    "payload = { \"url\": \"https://www.linkedin.com/search/results/people/?currentCompany=%5B%221035%22%5D&geoUrn=%5B%22103644278%22%5D&keywords=max&origin=FACETED_SEARCH&sid=%3AB5\" }\n",
    "headers = {\n",
    "\t\"x-rapidapi-key\": \"879f2a0791msh9d65101a5399400p1618d4jsn5037d2c30d63\",\n",
    "\t\"x-rapidapi-host\": \"linkedin-data-api.p.rapidapi.com\",\n",
    "\t\"Content-Type\": \"application/json\"\n",
    "}\n",
    "\n",
    "response = requests.post(url, json=payload, headers=headers)\n",
    "\n",
    "print(response.json()['data'])\n",
    "pf = pd.DataFrame(response.json()['data'])\n",
    "print(pf)"
   ]
  },
  {
   "cell_type": "code",
   "execution_count": 30,
   "metadata": {},
   "outputs": [
    {
     "data": {
      "text/html": [
       "<div>\n",
       "<style scoped>\n",
       "    .dataframe tbody tr th:only-of-type {\n",
       "        vertical-align: middle;\n",
       "    }\n",
       "\n",
       "    .dataframe tbody tr th {\n",
       "        vertical-align: top;\n",
       "    }\n",
       "\n",
       "    .dataframe thead th {\n",
       "        text-align: right;\n",
       "    }\n",
       "</style>\n",
       "<table border=\"1\" class=\"dataframe\">\n",
       "  <thead>\n",
       "    <tr style=\"text-align: right;\">\n",
       "      <th></th>\n",
       "      <th>total</th>\n",
       "      <th>items</th>\n",
       "    </tr>\n",
       "  </thead>\n",
       "  <tbody>\n",
       "    <tr>\n",
       "      <th>0</th>\n",
       "      <td>225</td>\n",
       "      <td>{'fullName': 'Max Fischer', 'headline': 'Group...</td>\n",
       "    </tr>\n",
       "    <tr>\n",
       "      <th>1</th>\n",
       "      <td>225</td>\n",
       "      <td>{'fullName': 'Max Charlamb', 'headline': 'CS @...</td>\n",
       "    </tr>\n",
       "    <tr>\n",
       "      <th>2</th>\n",
       "      <td>225</td>\n",
       "      <td>{'fullName': 'Max P.', 'headline': 'Sr. Securi...</td>\n",
       "    </tr>\n",
       "    <tr>\n",
       "      <th>3</th>\n",
       "      <td>225</td>\n",
       "      <td>{'fullName': 'Max Bouchez', 'headline': 'Senio...</td>\n",
       "    </tr>\n",
       "    <tr>\n",
       "      <th>4</th>\n",
       "      <td>225</td>\n",
       "      <td>{'fullName': 'Max Liu', 'headline': 'Senior So...</td>\n",
       "    </tr>\n",
       "    <tr>\n",
       "      <th>5</th>\n",
       "      <td>225</td>\n",
       "      <td>{'fullName': 'Max Manesh', 'headline': 'Softwa...</td>\n",
       "    </tr>\n",
       "    <tr>\n",
       "      <th>6</th>\n",
       "      <td>225</td>\n",
       "      <td>{'fullName': 'Max Kryatov', 'headline': 'SDE',...</td>\n",
       "    </tr>\n",
       "    <tr>\n",
       "      <th>7</th>\n",
       "      <td>225</td>\n",
       "      <td>{'fullName': 'Max E.', 'headline': 'Enterprise...</td>\n",
       "    </tr>\n",
       "    <tr>\n",
       "      <th>8</th>\n",
       "      <td>225</td>\n",
       "      <td>{'fullName': 'Max Peterschmidt', 'headline': '...</td>\n",
       "    </tr>\n",
       "    <tr>\n",
       "      <th>9</th>\n",
       "      <td>225</td>\n",
       "      <td>{'fullName': 'Max Marquardt', 'headline': 'Fin...</td>\n",
       "    </tr>\n",
       "  </tbody>\n",
       "</table>\n",
       "</div>"
      ],
      "text/plain": [
       "   total                                              items\n",
       "0    225  {'fullName': 'Max Fischer', 'headline': 'Group...\n",
       "1    225  {'fullName': 'Max Charlamb', 'headline': 'CS @...\n",
       "2    225  {'fullName': 'Max P.', 'headline': 'Sr. Securi...\n",
       "3    225  {'fullName': 'Max Bouchez', 'headline': 'Senio...\n",
       "4    225  {'fullName': 'Max Liu', 'headline': 'Senior So...\n",
       "5    225  {'fullName': 'Max Manesh', 'headline': 'Softwa...\n",
       "6    225  {'fullName': 'Max Kryatov', 'headline': 'SDE',...\n",
       "7    225  {'fullName': 'Max E.', 'headline': 'Enterprise...\n",
       "8    225  {'fullName': 'Max Peterschmidt', 'headline': '...\n",
       "9    225  {'fullName': 'Max Marquardt', 'headline': 'Fin..."
      ]
     },
     "execution_count": 30,
     "metadata": {},
     "output_type": "execute_result"
    }
   ],
   "source": [
    "pf"
   ]
  },
  {
   "cell_type": "code",
   "execution_count": null,
   "metadata": {},
   "outputs": [],
   "source": []
  }
 ],
 "metadata": {
  "kernelspec": {
   "display_name": "venv",
   "language": "python",
   "name": "python3"
  },
  "language_info": {
   "codemirror_mode": {
    "name": "ipython",
    "version": 3
   },
   "file_extension": ".py",
   "mimetype": "text/x-python",
   "name": "python",
   "nbconvert_exporter": "python",
   "pygments_lexer": "ipython3",
   "version": "3.12.6"
  }
 },
 "nbformat": 4,
 "nbformat_minor": 2
}
