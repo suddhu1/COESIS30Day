{
 "cells": [
  {
   "cell_type": "code",
   "execution_count": 1,
   "metadata": {},
   "outputs": [],
   "source": [
    "import numpy as np \n",
    "import pandas as pd \n"
   ]
  },
  {
   "cell_type": "code",
   "execution_count": 2,
   "metadata": {},
   "outputs": [],
   "source": [
    "from sklearn.impute import SimpleImputer"
   ]
  },
  {
   "cell_type": "code",
   "execution_count": 3,
   "metadata": {},
   "outputs": [],
   "source": [
    "from sklearn.preprocessing import OneHotEncoder"
   ]
  },
  {
   "cell_type": "code",
   "execution_count": 4,
   "metadata": {},
   "outputs": [],
   "source": [
    "from sklearn.preprocessing import OrdinalEncoder"
   ]
  },
  {
   "cell_type": "code",
   "execution_count": 5,
   "metadata": {},
   "outputs": [],
   "source": [
    "df = pd.read_csv('https://raw.githubusercontent.com/campusx-official/100-days-of-machine-learning/refs/heads/main/day28-column-transformer/covid_toy.csv')"
   ]
  },
  {
   "cell_type": "code",
   "execution_count": 6,
   "metadata": {},
   "outputs": [
    {
     "data": {
      "text/html": [
       "<div>\n",
       "<style scoped>\n",
       "    .dataframe tbody tr th:only-of-type {\n",
       "        vertical-align: middle;\n",
       "    }\n",
       "\n",
       "    .dataframe tbody tr th {\n",
       "        vertical-align: top;\n",
       "    }\n",
       "\n",
       "    .dataframe thead th {\n",
       "        text-align: right;\n",
       "    }\n",
       "</style>\n",
       "<table border=\"1\" class=\"dataframe\">\n",
       "  <thead>\n",
       "    <tr style=\"text-align: right;\">\n",
       "      <th></th>\n",
       "      <th>age</th>\n",
       "      <th>gender</th>\n",
       "      <th>fever</th>\n",
       "      <th>cough</th>\n",
       "      <th>city</th>\n",
       "      <th>has_covid</th>\n",
       "    </tr>\n",
       "  </thead>\n",
       "  <tbody>\n",
       "    <tr>\n",
       "      <th>0</th>\n",
       "      <td>60</td>\n",
       "      <td>Male</td>\n",
       "      <td>103.0</td>\n",
       "      <td>Mild</td>\n",
       "      <td>Kolkata</td>\n",
       "      <td>No</td>\n",
       "    </tr>\n",
       "    <tr>\n",
       "      <th>1</th>\n",
       "      <td>27</td>\n",
       "      <td>Male</td>\n",
       "      <td>100.0</td>\n",
       "      <td>Mild</td>\n",
       "      <td>Delhi</td>\n",
       "      <td>Yes</td>\n",
       "    </tr>\n",
       "    <tr>\n",
       "      <th>2</th>\n",
       "      <td>42</td>\n",
       "      <td>Male</td>\n",
       "      <td>101.0</td>\n",
       "      <td>Mild</td>\n",
       "      <td>Delhi</td>\n",
       "      <td>No</td>\n",
       "    </tr>\n",
       "    <tr>\n",
       "      <th>3</th>\n",
       "      <td>31</td>\n",
       "      <td>Female</td>\n",
       "      <td>98.0</td>\n",
       "      <td>Mild</td>\n",
       "      <td>Kolkata</td>\n",
       "      <td>No</td>\n",
       "    </tr>\n",
       "    <tr>\n",
       "      <th>4</th>\n",
       "      <td>65</td>\n",
       "      <td>Female</td>\n",
       "      <td>101.0</td>\n",
       "      <td>Mild</td>\n",
       "      <td>Mumbai</td>\n",
       "      <td>No</td>\n",
       "    </tr>\n",
       "  </tbody>\n",
       "</table>\n",
       "</div>"
      ],
      "text/plain": [
       "   age  gender  fever cough     city has_covid\n",
       "0   60    Male  103.0  Mild  Kolkata        No\n",
       "1   27    Male  100.0  Mild    Delhi       Yes\n",
       "2   42    Male  101.0  Mild    Delhi        No\n",
       "3   31  Female   98.0  Mild  Kolkata        No\n",
       "4   65  Female  101.0  Mild   Mumbai        No"
      ]
     },
     "execution_count": 6,
     "metadata": {},
     "output_type": "execute_result"
    }
   ],
   "source": [
    "df.head()"
   ]
  },
  {
   "cell_type": "code",
   "execution_count": 7,
   "metadata": {},
   "outputs": [
    {
     "data": {
      "text/plain": [
       "(100, 6)"
      ]
     },
     "execution_count": 7,
     "metadata": {},
     "output_type": "execute_result"
    }
   ],
   "source": [
    "df.shape"
   ]
  },
  {
   "cell_type": "code",
   "execution_count": 8,
   "metadata": {},
   "outputs": [
    {
     "data": {
      "text/plain": [
       "cough\n",
       "Mild      62\n",
       "Strong    38\n",
       "Name: count, dtype: int64"
      ]
     },
     "execution_count": 8,
     "metadata": {},
     "output_type": "execute_result"
    }
   ],
   "source": [
    "df['cough'].value_counts()"
   ]
  },
  {
   "cell_type": "code",
   "execution_count": 13,
   "metadata": {},
   "outputs": [],
   "source": [
    "## in our data set \n",
    "# gender and the city is the nominal data so we have to use OneHotEncoding \n",
    "# cough is the ordinal data so we have to use the ordinal categorical data so we have to use the ordinal encoding \n",
    "# for the has_covid column we have to use the label encoding as it is the target column in our data set "
   ]
  },
  {
   "cell_type": "code",
   "execution_count": 14,
   "metadata": {},
   "outputs": [
    {
     "data": {
      "text/plain": [
       "age           0\n",
       "gender        0\n",
       "fever        10\n",
       "cough         0\n",
       "city          0\n",
       "has_covid     0\n",
       "dtype: int64"
      ]
     },
     "execution_count": 14,
     "metadata": {},
     "output_type": "execute_result"
    }
   ],
   "source": [
    "df.isnull().sum()"
   ]
  },
  {
   "cell_type": "code",
   "execution_count": 15,
   "metadata": {},
   "outputs": [],
   "source": [
    "from sklearn.model_selection import train_test_split"
   ]
  },
  {
   "cell_type": "code",
   "execution_count": 16,
   "metadata": {},
   "outputs": [],
   "source": [
    "X_train,X_test,y_train,y_test = train_test_split(df.drop(columns=['has_covid']),df['has_covid'],test_size=0.2)"
   ]
  },
  {
   "cell_type": "code",
   "execution_count": 17,
   "metadata": {},
   "outputs": [
    {
     "data": {
      "text/html": [
       "<div>\n",
       "<style scoped>\n",
       "    .dataframe tbody tr th:only-of-type {\n",
       "        vertical-align: middle;\n",
       "    }\n",
       "\n",
       "    .dataframe tbody tr th {\n",
       "        vertical-align: top;\n",
       "    }\n",
       "\n",
       "    .dataframe thead th {\n",
       "        text-align: right;\n",
       "    }\n",
       "</style>\n",
       "<table border=\"1\" class=\"dataframe\">\n",
       "  <thead>\n",
       "    <tr style=\"text-align: right;\">\n",
       "      <th></th>\n",
       "      <th>age</th>\n",
       "      <th>gender</th>\n",
       "      <th>fever</th>\n",
       "      <th>cough</th>\n",
       "      <th>city</th>\n",
       "    </tr>\n",
       "  </thead>\n",
       "  <tbody>\n",
       "    <tr>\n",
       "      <th>97</th>\n",
       "      <td>20</td>\n",
       "      <td>Female</td>\n",
       "      <td>101.0</td>\n",
       "      <td>Mild</td>\n",
       "      <td>Bangalore</td>\n",
       "    </tr>\n",
       "    <tr>\n",
       "      <th>5</th>\n",
       "      <td>84</td>\n",
       "      <td>Female</td>\n",
       "      <td>NaN</td>\n",
       "      <td>Mild</td>\n",
       "      <td>Bangalore</td>\n",
       "    </tr>\n",
       "    <tr>\n",
       "      <th>1</th>\n",
       "      <td>27</td>\n",
       "      <td>Male</td>\n",
       "      <td>100.0</td>\n",
       "      <td>Mild</td>\n",
       "      <td>Delhi</td>\n",
       "    </tr>\n",
       "    <tr>\n",
       "      <th>19</th>\n",
       "      <td>42</td>\n",
       "      <td>Female</td>\n",
       "      <td>NaN</td>\n",
       "      <td>Strong</td>\n",
       "      <td>Bangalore</td>\n",
       "    </tr>\n",
       "    <tr>\n",
       "      <th>95</th>\n",
       "      <td>12</td>\n",
       "      <td>Female</td>\n",
       "      <td>104.0</td>\n",
       "      <td>Mild</td>\n",
       "      <td>Bangalore</td>\n",
       "    </tr>\n",
       "    <tr>\n",
       "      <th>...</th>\n",
       "      <td>...</td>\n",
       "      <td>...</td>\n",
       "      <td>...</td>\n",
       "      <td>...</td>\n",
       "      <td>...</td>\n",
       "    </tr>\n",
       "    <tr>\n",
       "      <th>25</th>\n",
       "      <td>23</td>\n",
       "      <td>Male</td>\n",
       "      <td>NaN</td>\n",
       "      <td>Mild</td>\n",
       "      <td>Mumbai</td>\n",
       "    </tr>\n",
       "    <tr>\n",
       "      <th>11</th>\n",
       "      <td>65</td>\n",
       "      <td>Female</td>\n",
       "      <td>98.0</td>\n",
       "      <td>Mild</td>\n",
       "      <td>Mumbai</td>\n",
       "    </tr>\n",
       "    <tr>\n",
       "      <th>16</th>\n",
       "      <td>69</td>\n",
       "      <td>Female</td>\n",
       "      <td>103.0</td>\n",
       "      <td>Mild</td>\n",
       "      <td>Kolkata</td>\n",
       "    </tr>\n",
       "    <tr>\n",
       "      <th>82</th>\n",
       "      <td>24</td>\n",
       "      <td>Male</td>\n",
       "      <td>98.0</td>\n",
       "      <td>Mild</td>\n",
       "      <td>Kolkata</td>\n",
       "    </tr>\n",
       "    <tr>\n",
       "      <th>48</th>\n",
       "      <td>66</td>\n",
       "      <td>Male</td>\n",
       "      <td>99.0</td>\n",
       "      <td>Strong</td>\n",
       "      <td>Bangalore</td>\n",
       "    </tr>\n",
       "  </tbody>\n",
       "</table>\n",
       "<p>80 rows × 5 columns</p>\n",
       "</div>"
      ],
      "text/plain": [
       "    age  gender  fever   cough       city\n",
       "97   20  Female  101.0    Mild  Bangalore\n",
       "5    84  Female    NaN    Mild  Bangalore\n",
       "1    27    Male  100.0    Mild      Delhi\n",
       "19   42  Female    NaN  Strong  Bangalore\n",
       "95   12  Female  104.0    Mild  Bangalore\n",
       "..  ...     ...    ...     ...        ...\n",
       "25   23    Male    NaN    Mild     Mumbai\n",
       "11   65  Female   98.0    Mild     Mumbai\n",
       "16   69  Female  103.0    Mild    Kolkata\n",
       "82   24    Male   98.0    Mild    Kolkata\n",
       "48   66    Male   99.0  Strong  Bangalore\n",
       "\n",
       "[80 rows x 5 columns]"
      ]
     },
     "execution_count": 17,
     "metadata": {},
     "output_type": "execute_result"
    }
   ],
   "source": [
    "X_train"
   ]
  },
  {
   "cell_type": "markdown",
   "metadata": {},
   "source": [
    "## Aam Zindaghi "
   ]
  },
  {
   "cell_type": "markdown",
   "metadata": {},
   "source": []
  },
  {
   "cell_type": "code",
   "execution_count": 19,
   "metadata": {},
   "outputs": [],
   "source": [
    "# adding the simple imputer to the fever column \n",
    "si = SimpleImputer()"
   ]
  },
  {
   "cell_type": "code",
   "execution_count": 20,
   "metadata": {},
   "outputs": [
    {
     "data": {
      "text/plain": [
       "(80, 1)"
      ]
     },
     "execution_count": 20,
     "metadata": {},
     "output_type": "execute_result"
    }
   ],
   "source": [
    "X_train_fever = si.fit_transform(X_train[['fever']])\n",
    "\n",
    "# also the test data \n",
    "X_test_fever = si.fit_transform(X_test[['fever']])\n",
    "\n",
    "X_train_fever.shape"
   ]
  },
  {
   "cell_type": "code",
   "execution_count": 21,
   "metadata": {},
   "outputs": [
    {
     "data": {
      "text/plain": [
       "array([[101.],\n",
       "       [101.],\n",
       "       [100.],\n",
       "       [101.],\n",
       "       [104.],\n",
       "       [ 98.],\n",
       "       [101.],\n",
       "       [100.],\n",
       "       [104.],\n",
       "       [ 99.],\n",
       "       [ 99.],\n",
       "       [100.],\n",
       "       [ 99.],\n",
       "       [ 98.],\n",
       "       [102.],\n",
       "       [101.],\n",
       "       [104.],\n",
       "       [101.],\n",
       "       [ 99.],\n",
       "       [101.],\n",
       "       [100.],\n",
       "       [101.],\n",
       "       [102.],\n",
       "       [104.],\n",
       "       [101.],\n",
       "       [ 99.],\n",
       "       [102.],\n",
       "       [ 99.],\n",
       "       [102.],\n",
       "       [102.],\n",
       "       [101.],\n",
       "       [103.],\n",
       "       [104.],\n",
       "       [101.],\n",
       "       [101.],\n",
       "       [101.],\n",
       "       [104.],\n",
       "       [101.],\n",
       "       [101.],\n",
       "       [103.],\n",
       "       [100.],\n",
       "       [100.],\n",
       "       [101.],\n",
       "       [103.],\n",
       "       [104.],\n",
       "       [104.],\n",
       "       [100.],\n",
       "       [102.],\n",
       "       [101.],\n",
       "       [ 98.],\n",
       "       [104.],\n",
       "       [100.],\n",
       "       [101.],\n",
       "       [100.],\n",
       "       [ 98.],\n",
       "       [ 98.],\n",
       "       [102.],\n",
       "       [100.],\n",
       "       [101.],\n",
       "       [ 98.],\n",
       "       [100.],\n",
       "       [104.],\n",
       "       [103.],\n",
       "       [104.],\n",
       "       [101.],\n",
       "       [101.],\n",
       "       [103.],\n",
       "       [101.],\n",
       "       [102.],\n",
       "       [ 98.],\n",
       "       [102.],\n",
       "       [ 99.],\n",
       "       [101.],\n",
       "       [ 98.],\n",
       "       [104.],\n",
       "       [101.],\n",
       "       [ 98.],\n",
       "       [103.],\n",
       "       [ 98.],\n",
       "       [ 99.]])"
      ]
     },
     "execution_count": 21,
     "metadata": {},
     "output_type": "execute_result"
    }
   ],
   "source": [
    "X_train_fever"
   ]
  },
  {
   "cell_type": "code",
   "execution_count": 22,
   "metadata": {},
   "outputs": [
    {
     "data": {
      "text/plain": [
       "array([[100.],\n",
       "       [102.],\n",
       "       [ 99.],\n",
       "       [ 98.],\n",
       "       [101.],\n",
       "       [103.],\n",
       "       [ 98.],\n",
       "       [103.],\n",
       "       [101.],\n",
       "       [104.],\n",
       "       [ 99.],\n",
       "       [ 98.],\n",
       "       [ 98.],\n",
       "       [100.],\n",
       "       [103.],\n",
       "       [101.],\n",
       "       [ 98.],\n",
       "       [ 98.],\n",
       "       [ 98.],\n",
       "       [104.]])"
      ]
     },
     "execution_count": 22,
     "metadata": {},
     "output_type": "execute_result"
    }
   ],
   "source": [
    "X_test_fever"
   ]
  },
  {
   "cell_type": "code",
   "execution_count": 24,
   "metadata": {},
   "outputs": [
    {
     "data": {
      "text/plain": [
       "(80, 1)"
      ]
     },
     "execution_count": 24,
     "metadata": {},
     "output_type": "execute_result"
    }
   ],
   "source": [
    "# OedinalEncoding  ->  cough \n",
    "oe = OrdinalEncoder(categories=[['Mild','Strong']])\n",
    "X_train_cough = oe.fit_transform(X_train[['cough']])\n",
    "\n",
    "# also the test data\n",
    "X_test_cough = oe.fit_transform(X_test[['cough']])\n",
    "\n",
    "X_train_cough.shape\n"
   ]
  },
  {
   "cell_type": "code",
   "execution_count": 28,
   "metadata": {},
   "outputs": [
    {
     "data": {
      "text/plain": [
       "(80, 4)"
      ]
     },
     "execution_count": 28,
     "metadata": {},
     "output_type": "execute_result"
    }
   ],
   "source": [
    "# OneHotEncoding -> gender , city \n",
    "\n",
    "ohe = OneHotEncoder(drop='first',sparse_output=False)\n",
    "\n",
    "X_train_gender_city = ohe.fit_transform(X_train[['gender','city']])\n",
    "\n",
    "# also for the test data \n",
    "\n",
    "X_test_gender_city = ohe.fit_transform(X_test[['gender','city']])\n",
    "\n",
    "X_train_gender_city.shape"
   ]
  },
  {
   "cell_type": "code",
   "execution_count": 32,
   "metadata": {},
   "outputs": [
    {
     "data": {
      "text/plain": [
       "(80, 1)"
      ]
     },
     "execution_count": 32,
     "metadata": {},
     "output_type": "execute_result"
    }
   ],
   "source": [
    "# Extracting Age \n",
    "\n",
    "X_train_age = X_train.drop(columns=['gender','fever','cough','city']).values \n",
    "\n",
    "# also the test data \n",
    "X_test_age = X_test.drop(columns=['gender','fever','cough','city']).values \n",
    "X_train_age.shape"
   ]
  },
  {
   "cell_type": "code",
   "execution_count": 33,
   "metadata": {},
   "outputs": [
    {
     "data": {
      "text/plain": [
       "(80, 7)"
      ]
     },
     "execution_count": 33,
     "metadata": {},
     "output_type": "execute_result"
    }
   ],
   "source": [
    "X_train_transformed = np.concatenate((X_train_age,X_train_fever,X_train_gender_city,X_train_cough), axis=1)\n",
    "\n",
    "# also for the test data \n",
    "X_test_transformed = np.concatenate((X_test_age,X_test_fever,X_test_gender_city,X_test_cough), axis=1)\n",
    "\n",
    "X_train_transformed.shape"
   ]
  },
  {
   "cell_type": "code",
   "execution_count": 34,
   "metadata": {},
   "outputs": [
    {
     "data": {
      "text/plain": [
       "array([[ 20., 101.,   0.,   0.,   0.,   0.,   0.],\n",
       "       [ 84., 101.,   0.,   0.,   0.,   0.,   0.],\n",
       "       [ 27., 100.,   1.,   1.,   0.,   0.,   0.],\n",
       "       [ 42., 101.,   0.,   0.,   0.,   0.,   1.],\n",
       "       [ 12., 104.,   0.,   0.,   0.,   0.,   0.],\n",
       "       [  5.,  98.,   0.,   0.,   0.,   1.,   1.],\n",
       "       [ 81., 101.,   0.,   0.,   0.,   1.,   0.],\n",
       "       [ 10., 100.,   1.,   0.,   0.,   0.,   0.],\n",
       "       [ 44., 104.,   1.,   0.,   0.,   1.,   0.],\n",
       "       [ 72.,  99.,   1.,   0.,   0.,   0.,   0.],\n",
       "       [ 49.,  99.,   0.,   0.,   0.,   0.,   1.],\n",
       "       [ 80., 100.,   1.,   0.,   0.,   0.,   0.],\n",
       "       [ 14.,  99.,   0.,   0.,   0.,   1.,   0.],\n",
       "       [ 10.,  98.,   0.,   0.,   1.,   0.,   1.],\n",
       "       [ 82., 102.,   0.,   0.,   1.,   0.,   1.],\n",
       "       [ 42., 101.,   1.,   1.,   0.,   0.,   0.],\n",
       "       [ 51., 104.,   1.,   0.,   1.,   0.,   0.],\n",
       "       [ 38., 101.,   0.,   0.,   0.,   0.,   0.],\n",
       "       [ 22.,  99.,   0.,   0.,   0.,   0.,   0.],\n",
       "       [ 79., 101.,   1.,   0.,   1.,   0.,   1.],\n",
       "       [ 27., 100.,   1.,   1.,   0.,   0.,   0.],\n",
       "       [ 19., 101.,   0.,   0.,   0.,   1.,   0.],\n",
       "       [ 82., 102.,   0.,   0.,   0.,   0.,   1.],\n",
       "       [ 42., 104.,   1.,   0.,   0.,   1.,   0.],\n",
       "       [ 38., 101.,   1.,   1.,   0.,   0.,   0.],\n",
       "       [ 60.,  99.,   0.,   0.,   0.,   1.,   0.],\n",
       "       [ 69., 102.,   0.,   0.,   0.,   0.,   0.],\n",
       "       [ 59.,  99.,   0.,   1.,   0.,   0.,   1.],\n",
       "       [ 33., 102.,   0.,   1.,   0.,   0.,   1.],\n",
       "       [ 64., 102.,   1.,   0.,   0.,   0.,   0.],\n",
       "       [ 68., 101.,   0.,   1.,   0.,   0.,   1.],\n",
       "       [ 70., 103.,   1.,   0.,   1.,   0.,   1.],\n",
       "       [ 16., 104.,   1.,   0.,   1.,   0.,   0.],\n",
       "       [ 51., 101.,   0.,   0.,   1.,   0.,   1.],\n",
       "       [ 47., 101.,   1.,   0.,   0.,   0.,   1.],\n",
       "       [ 82., 101.,   1.,   0.,   1.,   0.,   0.],\n",
       "       [ 75., 104.,   0.,   1.,   0.,   0.,   1.],\n",
       "       [ 34., 101.,   0.,   1.,   0.,   0.,   1.],\n",
       "       [ 14., 101.,   1.,   0.,   0.,   0.,   1.],\n",
       "       [ 83., 103.,   1.,   0.,   1.,   0.,   0.],\n",
       "       [ 11., 100.,   0.,   0.,   1.,   0.,   1.],\n",
       "       [ 27., 100.,   1.,   0.,   1.,   0.,   0.],\n",
       "       [ 65., 101.,   0.,   0.,   0.,   1.,   0.],\n",
       "       [ 48., 103.,   0.,   0.,   1.,   0.,   0.],\n",
       "       [ 34., 104.,   0.,   1.,   0.,   0.,   1.],\n",
       "       [ 17., 104.,   0.,   0.,   1.,   0.,   0.],\n",
       "       [ 13., 100.,   0.,   0.,   1.,   0.,   1.],\n",
       "       [  5., 102.,   1.,   0.,   1.,   0.,   0.],\n",
       "       [ 71., 101.,   1.,   0.,   1.,   0.,   1.],\n",
       "       [ 69.,  98.,   0.,   0.,   0.,   1.,   1.],\n",
       "       [ 25., 104.,   1.,   0.,   0.,   0.,   0.],\n",
       "       [ 55., 100.,   1.,   0.,   1.,   0.,   0.],\n",
       "       [ 75., 101.,   0.,   1.,   0.,   0.,   0.],\n",
       "       [ 19., 100.,   0.,   0.,   1.,   0.,   0.],\n",
       "       [ 31.,  98.,   0.,   0.,   1.,   0.,   0.],\n",
       "       [ 26.,  98.,   0.,   0.,   1.,   0.,   0.],\n",
       "       [ 20., 102.,   1.,   1.,   0.,   0.,   1.],\n",
       "       [ 11., 100.,   1.,   0.,   0.,   0.,   0.],\n",
       "       [  8., 101.,   0.,   0.,   1.,   0.,   0.],\n",
       "       [ 81.,  98.,   0.,   0.,   0.,   1.,   1.],\n",
       "       [  5., 100.,   0.,   0.,   1.,   0.,   0.],\n",
       "       [ 51., 104.,   1.,   0.,   0.,   0.,   0.],\n",
       "       [ 50., 103.,   0.,   0.,   1.,   0.,   0.],\n",
       "       [ 54., 104.,   0.,   0.,   1.,   0.,   1.],\n",
       "       [ 19., 101.,   1.,   1.,   0.,   0.,   0.],\n",
       "       [ 34., 101.,   0.,   0.,   0.,   1.,   1.],\n",
       "       [ 16., 103.,   0.,   0.,   0.,   0.,   0.],\n",
       "       [ 20., 101.,   0.,   0.,   0.,   1.,   1.],\n",
       "       [ 49., 102.,   0.,   1.,   0.,   0.,   0.],\n",
       "       [ 40.,  98.,   0.,   1.,   0.,   0.,   1.],\n",
       "       [ 24., 102.,   0.,   0.,   0.,   0.,   1.],\n",
       "       [ 65.,  99.,   1.,   0.,   0.,   0.,   0.],\n",
       "       [ 15., 101.,   1.,   1.,   0.,   0.,   0.],\n",
       "       [ 23.,  98.,   1.,   0.,   0.,   1.,   1.],\n",
       "       [  6., 104.,   0.,   0.,   1.,   0.,   0.],\n",
       "       [ 23., 101.,   1.,   0.,   0.,   1.,   0.],\n",
       "       [ 65.,  98.,   0.,   0.,   0.,   1.,   0.],\n",
       "       [ 69., 103.,   0.,   0.,   1.,   0.,   0.],\n",
       "       [ 24.,  98.,   1.,   0.,   1.,   0.,   0.],\n",
       "       [ 66.,  99.,   1.,   0.,   0.,   0.,   1.]])"
      ]
     },
     "execution_count": 34,
     "metadata": {},
     "output_type": "execute_result"
    }
   ],
   "source": [
    "X_train_transformed"
   ]
  },
  {
   "cell_type": "code",
   "execution_count": 35,
   "metadata": {},
   "outputs": [
    {
     "data": {
      "text/plain": [
       "array([[ 47., 100.,   0.,   0.,   0.,   0.,   1.],\n",
       "       [ 74., 102.,   1.,   0.,   0.,   1.,   0.],\n",
       "       [ 65.,  99.,   1.,   1.,   0.,   0.,   0.],\n",
       "       [ 64.,  98.,   0.,   0.,   0.,   0.,   0.],\n",
       "       [ 64., 101.,   0.,   1.,   0.,   0.,   0.],\n",
       "       [ 73., 103.,   0.,   1.,   0.,   0.,   0.],\n",
       "       [ 73.,  98.,   1.,   0.,   0.,   0.,   0.],\n",
       "       [ 60., 103.,   1.,   0.,   1.,   0.,   0.],\n",
       "       [ 83., 101.,   0.,   0.,   1.,   0.,   0.],\n",
       "       [ 18., 104.,   0.,   0.,   0.,   0.,   0.],\n",
       "       [ 25.,  99.,   0.,   0.,   1.,   0.,   1.],\n",
       "       [ 12.,  98.,   1.,   0.,   0.,   0.,   1.],\n",
       "       [ 83.,  98.,   1.,   1.,   0.,   0.,   0.],\n",
       "       [ 19., 100.,   0.,   0.,   0.,   0.,   1.],\n",
       "       [ 46., 103.,   1.,   0.,   0.,   0.,   1.],\n",
       "       [ 49., 101.,   0.,   1.,   0.,   0.,   0.],\n",
       "       [ 80.,  98.,   0.,   1.,   0.,   0.,   0.],\n",
       "       [ 71.,  98.,   0.,   0.,   1.,   0.,   1.],\n",
       "       [ 34.,  98.,   1.,   0.,   1.,   0.,   1.],\n",
       "       [ 56., 104.,   0.,   0.,   0.,   0.,   1.]])"
      ]
     },
     "execution_count": 35,
     "metadata": {},
     "output_type": "execute_result"
    }
   ],
   "source": [
    "X_test_transformed"
   ]
  },
  {
   "cell_type": "markdown",
   "metadata": {},
   "source": [
    "## ye he mentos Zindagi "
   ]
  },
  {
   "cell_type": "code",
   "execution_count": 36,
   "metadata": {},
   "outputs": [],
   "source": [
    "from sklearn.compose import ColumnTransformer"
   ]
  },
  {
   "cell_type": "code",
   "execution_count": 37,
   "metadata": {},
   "outputs": [],
   "source": [
    "transformer = ColumnTransformer(transformers=[\n",
    "    ('tnf1',SimpleImputer(),['fever']), \n",
    "    ('tnf2', OrdinalEncoder(categories=[['Mild','Strong']]),['cough']),\n",
    "    ('tnf3',OneHotEncoder(sparse_output=False,drop='first'),['gender','city'])\n",
    "],remainder='passthrough')"
   ]
  },
  {
   "cell_type": "code",
   "execution_count": 38,
   "metadata": {},
   "outputs": [
    {
     "data": {
      "text/plain": [
       "array([[101.,   0.,   0.,   0.,   0.,   0.,  20.],\n",
       "       [101.,   0.,   0.,   0.,   0.,   0.,  84.],\n",
       "       [100.,   0.,   1.,   1.,   0.,   0.,  27.],\n",
       "       [101.,   1.,   0.,   0.,   0.,   0.,  42.],\n",
       "       [104.,   0.,   0.,   0.,   0.,   0.,  12.],\n",
       "       [ 98.,   1.,   0.,   0.,   0.,   1.,   5.],\n",
       "       [101.,   0.,   0.,   0.,   0.,   1.,  81.],\n",
       "       [100.,   0.,   1.,   0.,   0.,   0.,  10.],\n",
       "       [104.,   0.,   1.,   0.,   0.,   1.,  44.],\n",
       "       [ 99.,   0.,   1.,   0.,   0.,   0.,  72.],\n",
       "       [ 99.,   1.,   0.,   0.,   0.,   0.,  49.],\n",
       "       [100.,   0.,   1.,   0.,   0.,   0.,  80.],\n",
       "       [ 99.,   0.,   0.,   0.,   0.,   1.,  14.],\n",
       "       [ 98.,   1.,   0.,   0.,   1.,   0.,  10.],\n",
       "       [102.,   1.,   0.,   0.,   1.,   0.,  82.],\n",
       "       [101.,   0.,   1.,   1.,   0.,   0.,  42.],\n",
       "       [104.,   0.,   1.,   0.,   1.,   0.,  51.],\n",
       "       [101.,   0.,   0.,   0.,   0.,   0.,  38.],\n",
       "       [ 99.,   0.,   0.,   0.,   0.,   0.,  22.],\n",
       "       [101.,   1.,   1.,   0.,   1.,   0.,  79.],\n",
       "       [100.,   0.,   1.,   1.,   0.,   0.,  27.],\n",
       "       [101.,   0.,   0.,   0.,   0.,   1.,  19.],\n",
       "       [102.,   1.,   0.,   0.,   0.,   0.,  82.],\n",
       "       [104.,   0.,   1.,   0.,   0.,   1.,  42.],\n",
       "       [101.,   0.,   1.,   1.,   0.,   0.,  38.],\n",
       "       [ 99.,   0.,   0.,   0.,   0.,   1.,  60.],\n",
       "       [102.,   0.,   0.,   0.,   0.,   0.,  69.],\n",
       "       [ 99.,   1.,   0.,   1.,   0.,   0.,  59.],\n",
       "       [102.,   1.,   0.,   1.,   0.,   0.,  33.],\n",
       "       [102.,   0.,   1.,   0.,   0.,   0.,  64.],\n",
       "       [101.,   1.,   0.,   1.,   0.,   0.,  68.],\n",
       "       [103.,   1.,   1.,   0.,   1.,   0.,  70.],\n",
       "       [104.,   0.,   1.,   0.,   1.,   0.,  16.],\n",
       "       [101.,   1.,   0.,   0.,   1.,   0.,  51.],\n",
       "       [101.,   1.,   1.,   0.,   0.,   0.,  47.],\n",
       "       [101.,   0.,   1.,   0.,   1.,   0.,  82.],\n",
       "       [104.,   1.,   0.,   1.,   0.,   0.,  75.],\n",
       "       [101.,   1.,   0.,   1.,   0.,   0.,  34.],\n",
       "       [101.,   1.,   1.,   0.,   0.,   0.,  14.],\n",
       "       [103.,   0.,   1.,   0.,   1.,   0.,  83.],\n",
       "       [100.,   1.,   0.,   0.,   1.,   0.,  11.],\n",
       "       [100.,   0.,   1.,   0.,   1.,   0.,  27.],\n",
       "       [101.,   0.,   0.,   0.,   0.,   1.,  65.],\n",
       "       [103.,   0.,   0.,   0.,   1.,   0.,  48.],\n",
       "       [104.,   1.,   0.,   1.,   0.,   0.,  34.],\n",
       "       [104.,   0.,   0.,   0.,   1.,   0.,  17.],\n",
       "       [100.,   1.,   0.,   0.,   1.,   0.,  13.],\n",
       "       [102.,   0.,   1.,   0.,   1.,   0.,   5.],\n",
       "       [101.,   1.,   1.,   0.,   1.,   0.,  71.],\n",
       "       [ 98.,   1.,   0.,   0.,   0.,   1.,  69.],\n",
       "       [104.,   0.,   1.,   0.,   0.,   0.,  25.],\n",
       "       [100.,   0.,   1.,   0.,   1.,   0.,  55.],\n",
       "       [101.,   0.,   0.,   1.,   0.,   0.,  75.],\n",
       "       [100.,   0.,   0.,   0.,   1.,   0.,  19.],\n",
       "       [ 98.,   0.,   0.,   0.,   1.,   0.,  31.],\n",
       "       [ 98.,   0.,   0.,   0.,   1.,   0.,  26.],\n",
       "       [102.,   1.,   1.,   1.,   0.,   0.,  20.],\n",
       "       [100.,   0.,   1.,   0.,   0.,   0.,  11.],\n",
       "       [101.,   0.,   0.,   0.,   1.,   0.,   8.],\n",
       "       [ 98.,   1.,   0.,   0.,   0.,   1.,  81.],\n",
       "       [100.,   0.,   0.,   0.,   1.,   0.,   5.],\n",
       "       [104.,   0.,   1.,   0.,   0.,   0.,  51.],\n",
       "       [103.,   0.,   0.,   0.,   1.,   0.,  50.],\n",
       "       [104.,   1.,   0.,   0.,   1.,   0.,  54.],\n",
       "       [101.,   0.,   1.,   1.,   0.,   0.,  19.],\n",
       "       [101.,   1.,   0.,   0.,   0.,   1.,  34.],\n",
       "       [103.,   0.,   0.,   0.,   0.,   0.,  16.],\n",
       "       [101.,   1.,   0.,   0.,   0.,   1.,  20.],\n",
       "       [102.,   0.,   0.,   1.,   0.,   0.,  49.],\n",
       "       [ 98.,   1.,   0.,   1.,   0.,   0.,  40.],\n",
       "       [102.,   1.,   0.,   0.,   0.,   0.,  24.],\n",
       "       [ 99.,   0.,   1.,   0.,   0.,   0.,  65.],\n",
       "       [101.,   0.,   1.,   1.,   0.,   0.,  15.],\n",
       "       [ 98.,   1.,   1.,   0.,   0.,   1.,  23.],\n",
       "       [104.,   0.,   0.,   0.,   1.,   0.,   6.],\n",
       "       [101.,   0.,   1.,   0.,   0.,   1.,  23.],\n",
       "       [ 98.,   0.,   0.,   0.,   0.,   1.,  65.],\n",
       "       [103.,   0.,   0.,   0.,   1.,   0.,  69.],\n",
       "       [ 98.,   0.,   1.,   0.,   1.,   0.,  24.],\n",
       "       [ 99.,   1.,   1.,   0.,   0.,   0.,  66.]])"
      ]
     },
     "execution_count": 38,
     "metadata": {},
     "output_type": "execute_result"
    }
   ],
   "source": [
    "transformer.fit_transform(X_train)"
   ]
  },
  {
   "cell_type": "code",
   "execution_count": 39,
   "metadata": {},
   "outputs": [
    {
     "data": {
      "text/plain": [
       "(80, 7)"
      ]
     },
     "execution_count": 39,
     "metadata": {},
     "output_type": "execute_result"
    }
   ],
   "source": [
    "transformer.fit_transform(X_train).shape"
   ]
  },
  {
   "cell_type": "code",
   "execution_count": 40,
   "metadata": {},
   "outputs": [
    {
     "data": {
      "text/plain": [
       "(20, 7)"
      ]
     },
     "execution_count": 40,
     "metadata": {},
     "output_type": "execute_result"
    }
   ],
   "source": [
    "transformer.transform(X_test).shape"
   ]
  },
  {
   "cell_type": "code",
   "execution_count": null,
   "metadata": {},
   "outputs": [],
   "source": []
  }
 ],
 "metadata": {
  "kernelspec": {
   "display_name": "venv",
   "language": "python",
   "name": "python3"
  },
  "language_info": {
   "codemirror_mode": {
    "name": "ipython",
    "version": 3
   },
   "file_extension": ".py",
   "mimetype": "text/x-python",
   "name": "python",
   "nbconvert_exporter": "python",
   "pygments_lexer": "ipython3",
   "version": "3.12.6"
  }
 },
 "nbformat": 4,
 "nbformat_minor": 2
}
